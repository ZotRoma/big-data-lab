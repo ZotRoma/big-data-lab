{
  "nbformat": 4,
  "nbformat_minor": 0,
  "metadata": {
    "colab": {
      "provenance": []
    },
    "kernelspec": {
      "name": "python3",
      "display_name": "Python 3"
    }
  },
  "cells": [
    {
      "cell_type": "markdown",
      "metadata": {
        "id": "82OvPKEiEqjc"
      },
      "source": [
        "# Введение в MapReduce модель на Python\n"
      ]
    },
    {
      "cell_type": "code",
      "metadata": {
        "id": "JQ2cvXLjICmI"
      },
      "source": [
        "from typing import NamedTuple # requires python 3.6+\n",
        "from typing import Iterator"
      ],
      "execution_count": 1,
      "outputs": []
    },
    {
      "cell_type": "code",
      "metadata": {
        "id": "yjPHumVwEyEg"
      },
      "source": [
        "def MAP(_, row:NamedTuple):\n",
        "  if (row.gender == 'female'):\n",
        "    yield (row.age, row)\n",
        "\n",
        "def REDUCE(age:str, rows:Iterator[NamedTuple]):\n",
        "  sum = 0\n",
        "  count = 0\n",
        "  for row in rows:\n",
        "    sum += row.social_contacts\n",
        "    count += 1\n",
        "  if (count > 0):\n",
        "    yield (age, sum/count)\n",
        "  else:\n",
        "    yield (age, 0)"
      ],
      "execution_count": 2,
      "outputs": []
    },
    {
      "cell_type": "markdown",
      "metadata": {
        "id": "vBKMgpG_ilaZ"
      },
      "source": [
        "Модель элемента данных"
      ]
    },
    {
      "cell_type": "code",
      "metadata": {
        "id": "Rv-XIjhTJPx3"
      },
      "source": [
        "class User(NamedTuple):\n",
        "  id: int\n",
        "  age: str\n",
        "  social_contacts: int\n",
        "  gender: str"
      ],
      "execution_count": 3,
      "outputs": []
    },
    {
      "cell_type": "code",
      "metadata": {
        "id": "5KV0Ze2vQgu5"
      },
      "source": [
        "input_collection = [\n",
        "    User(id=0, age=55, gender='male', social_contacts=20),\n",
        "    User(id=1, age=25, gender='female', social_contacts=240),\n",
        "    User(id=2, age=25, gender='female', social_contacts=500),\n",
        "    User(id=3, age=33, gender='female', social_contacts=800)\n",
        "]"
      ],
      "execution_count": 4,
      "outputs": []
    },
    {
      "cell_type": "markdown",
      "metadata": {
        "id": "YFeqzyZxZIFZ"
      },
      "source": [
        "Функция RECORDREADER моделирует чтение элементов с диска или по сети."
      ]
    },
    {
      "cell_type": "code",
      "metadata": {
        "id": "S5HR4E_GQoMJ"
      },
      "source": [
        "def RECORDREADER():\n",
        "  return [(u.id, u) for u in input_collection]"
      ],
      "execution_count": 5,
      "outputs": []
    },
    {
      "cell_type": "code",
      "metadata": {
        "id": "NeEoWla-ROUy",
        "colab": {
          "base_uri": "https://localhost:8080/"
        },
        "outputId": "d3cde0ef-457e-4a22-8ebc-8ec43395244a"
      },
      "source": [
        "list(RECORDREADER())"
      ],
      "execution_count": 6,
      "outputs": [
        {
          "output_type": "execute_result",
          "data": {
            "text/plain": [
              "[(0, User(id=0, age=55, social_contacts=20, gender='male')),\n",
              " (1, User(id=1, age=25, social_contacts=240, gender='female')),\n",
              " (2, User(id=2, age=25, social_contacts=500, gender='female')),\n",
              " (3, User(id=3, age=33, social_contacts=800, gender='female'))]"
            ]
          },
          "metadata": {},
          "execution_count": 6
        }
      ]
    },
    {
      "cell_type": "code",
      "metadata": {
        "id": "YB8orgPSZs8M"
      },
      "source": [
        "def flatten(nested_iterable):\n",
        "  for iterable in nested_iterable:\n",
        "    for element in iterable:\n",
        "      yield element"
      ],
      "execution_count": 7,
      "outputs": []
    },
    {
      "cell_type": "code",
      "metadata": {
        "id": "74oyvDLaRmd5",
        "colab": {
          "base_uri": "https://localhost:8080/"
        },
        "outputId": "ea94f5e6-8b98-4fad-9d57-4c869939991c"
      },
      "source": [
        "map_output = flatten(map(lambda x: MAP(*x), RECORDREADER()))\n",
        "map_output = list(map_output) # materialize\n",
        "map_output"
      ],
      "execution_count": 8,
      "outputs": [
        {
          "output_type": "execute_result",
          "data": {
            "text/plain": [
              "[(25, User(id=1, age=25, social_contacts=240, gender='female')),\n",
              " (25, User(id=2, age=25, social_contacts=500, gender='female')),\n",
              " (33, User(id=3, age=33, social_contacts=800, gender='female'))]"
            ]
          },
          "metadata": {},
          "execution_count": 8
        }
      ]
    },
    {
      "cell_type": "code",
      "metadata": {
        "id": "8ncYDJ3-VzDn"
      },
      "source": [
        "def groupbykey(iterable):\n",
        "  t = {}\n",
        "  for (k2, v2) in iterable:\n",
        "    t[k2] = t.get(k2, []) + [v2]\n",
        "  return t.items()"
      ],
      "execution_count": 9,
      "outputs": []
    },
    {
      "cell_type": "code",
      "metadata": {
        "id": "cKzY_6COWOA2",
        "colab": {
          "base_uri": "https://localhost:8080/"
        },
        "outputId": "23afae98-e3fe-4bb2-d729-b9637ae9e8de"
      },
      "source": [
        "shuffle_output = groupbykey(map_output)\n",
        "shuffle_output = list(shuffle_output)\n",
        "shuffle_output"
      ],
      "execution_count": 10,
      "outputs": [
        {
          "output_type": "execute_result",
          "data": {
            "text/plain": [
              "[(25,\n",
              "  [User(id=1, age=25, social_contacts=240, gender='female'),\n",
              "   User(id=2, age=25, social_contacts=500, gender='female')]),\n",
              " (33, [User(id=3, age=33, social_contacts=800, gender='female')])]"
            ]
          },
          "metadata": {},
          "execution_count": 10
        }
      ]
    },
    {
      "cell_type": "code",
      "metadata": {
        "id": "NlA7lkDDYL0t",
        "colab": {
          "base_uri": "https://localhost:8080/"
        },
        "outputId": "6e09c23c-4980-490d-a8b2-a03f70406db3"
      },
      "source": [
        "reduce_output = flatten(map(lambda x: REDUCE(*x), shuffle_output))\n",
        "reduce_output = list(reduce_output)\n",
        "reduce_output"
      ],
      "execution_count": 11,
      "outputs": [
        {
          "output_type": "execute_result",
          "data": {
            "text/plain": [
              "[(25, 370.0), (33, 800.0)]"
            ]
          },
          "metadata": {},
          "execution_count": 11
        }
      ]
    },
    {
      "cell_type": "markdown",
      "metadata": {
        "id": "xf6qhHEtd6bI"
      },
      "source": [
        "Все действия одним конвейером!"
      ]
    },
    {
      "cell_type": "code",
      "metadata": {
        "id": "dZaQGYxCdpw5",
        "colab": {
          "base_uri": "https://localhost:8080/"
        },
        "outputId": "723af0f0-5575-454f-fb24-65d785974287"
      },
      "source": [
        "list(flatten(map(lambda x: REDUCE(*x), groupbykey(flatten(map(lambda x: MAP(*x), RECORDREADER()))))))"
      ],
      "execution_count": 12,
      "outputs": [
        {
          "output_type": "execute_result",
          "data": {
            "text/plain": [
              "[(25, 370.0), (33, 800.0)]"
            ]
          },
          "metadata": {},
          "execution_count": 12
        }
      ]
    },
    {
      "cell_type": "markdown",
      "metadata": {
        "id": "Vq3EWRIpwSiJ"
      },
      "source": [
        "# **MapReduce**\n",
        "Выделим общую для всех пользователей часть системы в отдельную функцию высшего порядка. Это наиболее простая модель MapReduce, без учёта распределённого хранения данных.\n",
        "\n",
        "Пользователь для решения своей задачи реализует RECORDREADER, MAP, REDUCE."
      ]
    },
    {
      "cell_type": "code",
      "metadata": {
        "id": "V1PZeQMwwVjc"
      },
      "source": [
        "def flatten(nested_iterable):\n",
        "  for iterable in nested_iterable:\n",
        "    for element in iterable:\n",
        "      yield element\n",
        "\n",
        "def groupbykey(iterable):\n",
        "  t = {}\n",
        "  for (k2, v2) in iterable:\n",
        "    t[k2] = t.get(k2, []) + [v2]\n",
        "  return t.items()\n",
        "\n",
        "def MapReduce(RECORDREADER, MAP, REDUCE):\n",
        "  return flatten(map(lambda x: REDUCE(*x), groupbykey(flatten(map(lambda x: MAP(*x), RECORDREADER())))))"
      ],
      "execution_count": 13,
      "outputs": []
    },
    {
      "cell_type": "markdown",
      "metadata": {
        "id": "iFIVrimep678"
      },
      "source": [
        "## Спецификация MapReduce\n",
        "\n",
        "\n",
        "\n",
        "```\n",
        "f (k1, v1) -> (k2,v2)*\n",
        "g (k2, v2*) -> (k3,v3)*\n",
        "\n",
        "mapreduce ((k1,v1)*) -> (k3,v3)*\n",
        "groupby ((k2,v2)*) -> (k2,v2*)*\n",
        "flatten (e2**) -> e2*\n",
        "\n",
        "mapreduce .map(f).flatten.groupby(k2).map(g).flatten\n",
        "```\n",
        "\n",
        "\n"
      ]
    },
    {
      "cell_type": "markdown",
      "metadata": {
        "id": "QtTFyqke3KGe"
      },
      "source": [
        "# Примеры"
      ]
    },
    {
      "cell_type": "markdown",
      "metadata": {
        "id": "BNhh5763w5Vn"
      },
      "source": [
        "## SQL"
      ]
    },
    {
      "cell_type": "code",
      "metadata": {
        "id": "QkyurnvGxBGk",
        "colab": {
          "base_uri": "https://localhost:8080/"
        },
        "outputId": "0a308e51-2e4e-4a6e-b66d-a63a76294f42"
      },
      "source": [
        "from typing import NamedTuple # requires python 3.6+\n",
        "from typing import Iterator\n",
        "\n",
        "class User(NamedTuple):\n",
        "  id: int\n",
        "  age: str\n",
        "  social_contacts: int\n",
        "  gender: str\n",
        "\n",
        "input_collection = [\n",
        "    User(id=0, age=55, gender='male', social_contacts=20),\n",
        "    User(id=1, age=25, gender='female', social_contacts=240),\n",
        "    User(id=2, age=25, gender='female', social_contacts=500),\n",
        "    User(id=3, age=33, gender='female', social_contacts=800)\n",
        "]\n",
        "\n",
        "def MAP(_, row:NamedTuple):\n",
        "  if (row.gender == 'female'):\n",
        "    yield (row.age, row)\n",
        "\n",
        "def REDUCE(age:str, rows:Iterator[NamedTuple]):\n",
        "  sum = 0\n",
        "  count = 0\n",
        "  for row in rows:\n",
        "    sum += row.social_contacts\n",
        "    count += 1\n",
        "  if (count > 0):\n",
        "    yield (age, sum/count)\n",
        "  else:\n",
        "    yield (age, 0)\n",
        "\n",
        "def RECORDREADER():\n",
        "  return [(u.id, u) for u in input_collection]\n",
        "\n",
        "output = MapReduce(RECORDREADER, MAP, REDUCE)\n",
        "output = list(output)\n",
        "output"
      ],
      "execution_count": 14,
      "outputs": [
        {
          "output_type": "execute_result",
          "data": {
            "text/plain": [
              "[(25, 370.0), (33, 800.0)]"
            ]
          },
          "metadata": {},
          "execution_count": 14
        }
      ]
    },
    {
      "cell_type": "markdown",
      "metadata": {
        "id": "kNKYIeerx0nY"
      },
      "source": [
        "## Matrix-Vector multiplication"
      ]
    },
    {
      "cell_type": "code",
      "metadata": {
        "id": "rwcntRcCyi1V",
        "colab": {
          "base_uri": "https://localhost:8080/"
        },
        "outputId": "ef58114b-9586-4f29-d4d1-157309d170f7"
      },
      "source": [
        "from typing import Iterator\n",
        "import numpy as np\n",
        "\n",
        "mat = np.ones((5,4))\n",
        "vec = np.random.rand(4) # in-memory vector in all map tasks\n",
        "\n",
        "def MAP(coordinates:(int, int), value:int):\n",
        "  i, j = coordinates\n",
        "  yield (i, value*vec[j])\n",
        "\n",
        "def REDUCE(i:int, products:Iterator[NamedTuple]):\n",
        "  sum = 0\n",
        "  for p in products:\n",
        "    sum += p\n",
        "  yield (i, sum)\n",
        "\n",
        "def RECORDREADER():\n",
        "  for i in range(mat.shape[0]):\n",
        "    for j in range(mat.shape[1]):\n",
        "      yield ((i, j), mat[i,j])\n",
        "\n",
        "output = MapReduce(RECORDREADER, MAP, REDUCE)\n",
        "output = list(output)\n",
        "output"
      ],
      "execution_count": 15,
      "outputs": [
        {
          "output_type": "execute_result",
          "data": {
            "text/plain": [
              "[(0, 0.9769614390770253),\n",
              " (1, 0.9769614390770253),\n",
              " (2, 0.9769614390770253),\n",
              " (3, 0.9769614390770253),\n",
              " (4, 0.9769614390770253)]"
            ]
          },
          "metadata": {},
          "execution_count": 15
        }
      ]
    },
    {
      "cell_type": "markdown",
      "metadata": {
        "id": "ruZREYdi2o4O"
      },
      "source": [
        "## Inverted index"
      ]
    },
    {
      "cell_type": "code",
      "metadata": {
        "id": "vt9H9Alf3TYv",
        "colab": {
          "base_uri": "https://localhost:8080/"
        },
        "outputId": "3f7bafb6-bbe8-4937-fb97-6ba7a7e4d529"
      },
      "source": [
        "from typing import Iterator\n",
        "\n",
        "d1 = \"it is what it is\"\n",
        "d2 = \"what is it\"\n",
        "d3 = \"it is a banana\"\n",
        "documents = [d1, d2, d3]\n",
        "\n",
        "def RECORDREADER():\n",
        "  for (docid, document) in enumerate(documents):\n",
        "    yield (\"{}\".format(docid), document)\n",
        "\n",
        "def MAP(docId:str, body:str):\n",
        "  for word in set(body.split(' ')):\n",
        "    yield (word, docId)\n",
        "\n",
        "def REDUCE(word:str, docIds:Iterator[str]):\n",
        "  yield (word, sorted(docIds))\n",
        "\n",
        "output = MapReduce(RECORDREADER, MAP, REDUCE)\n",
        "output = list(output)\n",
        "output"
      ],
      "execution_count": 16,
      "outputs": [
        {
          "output_type": "execute_result",
          "data": {
            "text/plain": [
              "[('is', ['0', '1', '2']),\n",
              " ('it', ['0', '1', '2']),\n",
              " ('what', ['0', '1']),\n",
              " ('a', ['2']),\n",
              " ('banana', ['2'])]"
            ]
          },
          "metadata": {},
          "execution_count": 16
        }
      ]
    },
    {
      "cell_type": "markdown",
      "metadata": {
        "id": "R7az-6DA6qr2"
      },
      "source": [
        "## WordCount"
      ]
    },
    {
      "cell_type": "code",
      "metadata": {
        "id": "dN-nbtgG6uYG",
        "colab": {
          "base_uri": "https://localhost:8080/"
        },
        "outputId": "28bd0659-af79-4a5b-80e4-1057af09c119"
      },
      "source": [
        "from typing import Iterator\n",
        "\n",
        "d1 = \"\"\"\n",
        "it is what it is\n",
        "it is what it is\n",
        "it is what it is\"\"\"\n",
        "d2 = \"\"\"\n",
        "what is it\n",
        "what is it\"\"\"\n",
        "d3 = \"\"\"\n",
        "it is a banana\"\"\"\n",
        "documents = [d1, d2, d3]\n",
        "\n",
        "def RECORDREADER():\n",
        "  for (docid, document) in enumerate(documents):\n",
        "    for (lineid, line) in enumerate(document.split('\\n')):\n",
        "      yield (\"{}:{}\".format(docid,lineid), line)\n",
        "\n",
        "def MAP(docId:str, line:str):\n",
        "  for word in line.split(\" \"):\n",
        "    yield (word, 1)\n",
        "\n",
        "def REDUCE(word:str, counts:Iterator[int]):\n",
        "  sum = 0\n",
        "  for c in counts:\n",
        "    sum += c\n",
        "  yield (word, sum)\n",
        "\n",
        "output = MapReduce(RECORDREADER, MAP, REDUCE)\n",
        "output = list(output)\n",
        "output"
      ],
      "execution_count": 17,
      "outputs": [
        {
          "output_type": "execute_result",
          "data": {
            "text/plain": [
              "[('', 3), ('it', 9), ('is', 9), ('what', 5), ('a', 1), ('banana', 1)]"
            ]
          },
          "metadata": {},
          "execution_count": 17
        }
      ]
    },
    {
      "cell_type": "markdown",
      "metadata": {
        "id": "h-jRAcYCAkkk"
      },
      "source": [
        "# MapReduce Distributed\n",
        "\n",
        "Добавляется в модель фабрика RECORDREARER-ов --- INPUTFORMAT, функция распределения промежуточных результатов по партициям PARTITIONER, и функция COMBINER для частичной аггрегации промежуточных результатов до распределения по новым партициям."
      ]
    },
    {
      "cell_type": "code",
      "metadata": {
        "id": "nw-b-xJsApgW"
      },
      "source": [
        "def flatten(nested_iterable):\n",
        "  for iterable in nested_iterable:\n",
        "    for element in iterable:\n",
        "      yield element\n",
        "\n",
        "def groupbykey(iterable):\n",
        "  t = {}\n",
        "  for (k2, v2) in iterable:\n",
        "    t[k2] = t.get(k2, []) + [v2]\n",
        "  return t.items()\n",
        "\n",
        "def groupbykey_distributed(map_partitions, PARTITIONER):\n",
        "  global reducers\n",
        "  partitions = [dict() for _ in range(reducers)]\n",
        "  for map_partition in map_partitions:\n",
        "    for (k2, v2) in map_partition:\n",
        "      p = partitions[PARTITIONER(k2)]\n",
        "      p[k2] = p.get(k2, []) + [v2]\n",
        "  return [(partition_id, sorted(partition.items(), key=lambda x: x[0])) for (partition_id, partition) in enumerate(partitions)]\n",
        "\n",
        "def PARTITIONER(obj):\n",
        "  global reducers\n",
        "  return hash(obj) % reducers\n",
        "\n",
        "def MapReduceDistributed(INPUTFORMAT, MAP, REDUCE, PARTITIONER=PARTITIONER, COMBINER=None):\n",
        "  map_partitions = map(lambda record_reader: flatten(map(lambda k1v1: MAP(*k1v1), record_reader)), INPUTFORMAT())\n",
        "  if COMBINER != None:\n",
        "    map_partitions = map(lambda map_partition: flatten(map(lambda k2v2: COMBINER(*k2v2), groupbykey(map_partition))), map_partitions)\n",
        "  reduce_partitions = groupbykey_distributed(map_partitions, PARTITIONER) # shuffle\n",
        "  reduce_outputs = map(lambda reduce_partition: (reduce_partition[0], flatten(map(lambda reduce_input_group: REDUCE(*reduce_input_group), reduce_partition[1]))), reduce_partitions)\n",
        "\n",
        "  print(\"{} key-value pairs were sent over a network.\".format(sum([len(vs) for (k,vs) in flatten([partition for (partition_id, partition) in reduce_partitions])])))\n",
        "  return reduce_outputs"
      ],
      "execution_count": 18,
      "outputs": []
    },
    {
      "cell_type": "markdown",
      "metadata": {
        "id": "kxirlf3XqZxY"
      },
      "source": [
        "## Спецификация MapReduce Distributed\n",
        "\n",
        "\n",
        "```\n",
        "f (k1, v1) -> (k2,v2)*\n",
        "g (k2, v2*) -> (k3,v3)*\n",
        "\n",
        "e1 (k1, v1)\n",
        "e2 (k2, v2)\n",
        "partition1 (k2, v2)*\n",
        "partition2 (k2, v2*)*\n",
        "\n",
        "flatmap (e1->e2*, e1*) -> partition1*\n",
        "groupby (partition1*) -> partition2*\n",
        "\n",
        "mapreduce ((k1,v1)*) -> (k3,v3)*\n",
        "mapreduce .flatmap(f).groupby(k2).flatmap(g)\n",
        "```\n",
        "\n"
      ]
    },
    {
      "cell_type": "markdown",
      "metadata": {
        "id": "CWYw_CpbbY3C"
      },
      "source": [
        "## WordCount"
      ]
    },
    {
      "cell_type": "code",
      "metadata": {
        "id": "uR_zfGFkMZlp",
        "colab": {
          "base_uri": "https://localhost:8080/"
        },
        "outputId": "c3b97a7a-9ad9-479e-bd30-a2cb419383d0"
      },
      "source": [
        "from typing import Iterator\n",
        "import numpy as np\n",
        "\n",
        "d1 = \"\"\"\n",
        "it is what it is\n",
        "it is what it is\n",
        "it is what it is\"\"\"\n",
        "d2 = \"\"\"\n",
        "what is it\n",
        "what is it\"\"\"\n",
        "d3 = \"\"\"\n",
        "it is a banana\"\"\"\n",
        "documents = [d1, d2, d3, d1, d2, d3]\n",
        "\n",
        "maps = 3\n",
        "reducers = 2\n",
        "\n",
        "def INPUTFORMAT():\n",
        "  global maps\n",
        "\n",
        "  def RECORDREADER(split):\n",
        "    for (docid, document) in enumerate(split):\n",
        "      for (lineid, line) in enumerate(document.split('\\n')):\n",
        "        yield (\"{}:{}\".format(docid,lineid), line)\n",
        "\n",
        "  split_size =  int(np.ceil(len(documents)/maps))\n",
        "  for i in range(0, len(documents), split_size):\n",
        "    yield RECORDREADER(documents[i:i+split_size])\n",
        "\n",
        "def MAP(docId:str, line:str):\n",
        "  for word in line.split(\" \"):\n",
        "    yield (word, 1)\n",
        "\n",
        "def REDUCE(word:str, counts:Iterator[int]):\n",
        "  sum = 0\n",
        "  for c in counts:\n",
        "    sum += c\n",
        "  yield (word, sum)\n",
        "\n",
        "# try to set COMBINER=REDUCER and look at the number of values sent over the network\n",
        "partitioned_output = MapReduceDistributed(INPUTFORMAT, MAP, REDUCE, COMBINER=None)\n",
        "partitioned_output = [(partition_id, list(partition)) for (partition_id, partition) in partitioned_output]\n",
        "partitioned_output"
      ],
      "execution_count": 19,
      "outputs": [
        {
          "output_type": "stream",
          "name": "stdout",
          "text": [
            "56 key-value pairs were sent over a network.\n"
          ]
        },
        {
          "output_type": "execute_result",
          "data": {
            "text/plain": [
              "[(0, [('', 6), ('a', 2), ('banana', 2), ('is', 18), ('it', 18)]),\n",
              " (1, [('what', 10)])]"
            ]
          },
          "metadata": {},
          "execution_count": 19
        }
      ]
    },
    {
      "cell_type": "markdown",
      "metadata": {
        "id": "gCJGx8IQ87xS"
      },
      "source": [
        "## TeraSort"
      ]
    },
    {
      "cell_type": "code",
      "metadata": {
        "id": "P2v8v1v_8_YR",
        "colab": {
          "base_uri": "https://localhost:8080/"
        },
        "outputId": "29191b3b-a986-4eb4-c915-93ae94183c2a"
      },
      "source": [
        "import numpy as np\n",
        "\n",
        "input_values = np.random.rand(30)\n",
        "maps = 3\n",
        "reducers = 2\n",
        "min_value = 0.0\n",
        "max_value = 1.0\n",
        "\n",
        "def INPUTFORMAT():\n",
        "  global maps\n",
        "\n",
        "  def RECORDREADER(split):\n",
        "    for value in split:\n",
        "        yield (value, None)\n",
        "\n",
        "  split_size =  int(np.ceil(len(input_values)/maps))\n",
        "  for i in range(0, len(input_values), split_size):\n",
        "    yield RECORDREADER(input_values[i:i+split_size])\n",
        "\n",
        "def MAP(value:int, _):\n",
        "  yield (value, None)\n",
        "\n",
        "def PARTITIONER(key):\n",
        "  global reducers\n",
        "  global max_value\n",
        "  global min_value\n",
        "  bucket_size = (max_value-min_value)/reducers\n",
        "  bucket_id = 0\n",
        "  while((key>(bucket_id+1)*bucket_size) and ((bucket_id+1)*bucket_size<max_value)):\n",
        "    bucket_id += 1\n",
        "  return bucket_id\n",
        "\n",
        "def REDUCE(value:int, _):\n",
        "  yield (None,value)\n",
        "\n",
        "partitioned_output = MapReduceDistributed(INPUTFORMAT, MAP, REDUCE, COMBINER=None, PARTITIONER=PARTITIONER)\n",
        "partitioned_output = [(partition_id, list(partition)) for (partition_id, partition) in partitioned_output]\n",
        "partitioned_output"
      ],
      "execution_count": 20,
      "outputs": [
        {
          "output_type": "stream",
          "name": "stdout",
          "text": [
            "30 key-value pairs were sent over a network.\n"
          ]
        },
        {
          "output_type": "execute_result",
          "data": {
            "text/plain": [
              "[(0,\n",
              "  [(None, 0.015986376939784774),\n",
              "   (None, 0.05486345639886647),\n",
              "   (None, 0.06482719250038715),\n",
              "   (None, 0.09615622339126895),\n",
              "   (None, 0.10073695540273941),\n",
              "   (None, 0.114977758408776),\n",
              "   (None, 0.1713227259284985),\n",
              "   (None, 0.18848976964912512),\n",
              "   (None, 0.2702472503905019),\n",
              "   (None, 0.27163862200310807),\n",
              "   (None, 0.35715021262817936),\n",
              "   (None, 0.4106340739687878),\n",
              "   (None, 0.4255751963739316),\n",
              "   (None, 0.46163373194468216),\n",
              "   (None, 0.4928270684919176),\n",
              "   (None, 0.49303993781020927)]),\n",
              " (1,\n",
              "  [(None, 0.5416508451124052),\n",
              "   (None, 0.6032000500678181),\n",
              "   (None, 0.6285894338194947),\n",
              "   (None, 0.6564315138849527),\n",
              "   (None, 0.823570750228809),\n",
              "   (None, 0.8522754097109102),\n",
              "   (None, 0.8886692037059769),\n",
              "   (None, 0.8971347038131579),\n",
              "   (None, 0.8984985552536929),\n",
              "   (None, 0.9361725443827631),\n",
              "   (None, 0.944881849114131),\n",
              "   (None, 0.9512141052186531),\n",
              "   (None, 0.9516889159131262),\n",
              "   (None, 0.996634671980391)])]"
            ]
          },
          "metadata": {},
          "execution_count": 20
        }
      ]
    },
    {
      "cell_type": "code",
      "metadata": {
        "id": "MQhoJaVZI93G"
      },
      "source": [],
      "execution_count": 20,
      "outputs": []
    },
    {
      "cell_type": "markdown",
      "metadata": {
        "id": "Iy65YJTH99iT"
      },
      "source": [
        "# Упражнения\n",
        "Упражнения взяты из Rajaraman A., Ullman J. D. Mining of massive datasets. – Cambridge University Press, 2011.\n",
        "\n",
        "\n",
        "Для выполнения заданий переопределите функции RECORDREADER, MAP, REDUCE. Для модели распределённой системы может потребоваться переопределение функций PARTITION и COMBINER."
      ]
    },
    {
      "cell_type": "markdown",
      "metadata": {
        "id": "cfvAeZm3S8S8"
      },
      "source": [
        "### Максимальное значение ряда\n",
        "\n",
        "Разработайте MapReduce алгоритм, который находит максимальное число входного списка чисел."
      ]
    },
    {
      "cell_type": "code",
      "metadata": {
        "id": "3GRA1JR-Tkbg",
        "colab": {
          "base_uri": "https://localhost:8080/"
        },
        "outputId": "ee482061-7480-4f7a-c503-43d2e3b54edf"
      },
      "source": [
        "from typing import NamedTuple # requires python 3.6+\n",
        "from typing import Iterator\n",
        "\n",
        "input_values = np.random.rand(30)\n",
        "\n",
        "def MAP(_, row:int):\n",
        "  yield (None, row)\n",
        "\n",
        "def REDUCE(_, rows:list):\n",
        "  yield (_, max(rows))\n",
        "\n",
        "def RECORDREADER():\n",
        "  return [(None, u) for u in input_values]\n",
        "\n",
        "output = MapReduce(RECORDREADER, MAP, REDUCE)\n",
        "output = list(output)\n",
        "output"
      ],
      "execution_count": 21,
      "outputs": [
        {
          "output_type": "execute_result",
          "data": {
            "text/plain": [
              "[(None, 0.9925199502283611)]"
            ]
          },
          "metadata": {},
          "execution_count": 21
        }
      ]
    },
    {
      "cell_type": "markdown",
      "metadata": {
        "id": "k86bXnqZTk-U"
      },
      "source": [
        "### Арифметическое среднее\n",
        "\n",
        "Разработайте MapReduce алгоритм, который находит арифметическое среднее.\n",
        "\n",
        "$$\\overline{X} = \\frac{1}{n}\\sum_{i=0}^{n} x_i$$\n"
      ]
    },
    {
      "cell_type": "code",
      "metadata": {
        "id": "MPoY5pkfUNZf",
        "colab": {
          "base_uri": "https://localhost:8080/"
        },
        "outputId": "33e1298a-e7b3-4aa4-8aa1-38f150878142"
      },
      "source": [
        "from typing import NamedTuple # requires python 3.6+\n",
        "from typing import Iterator\n",
        "\n",
        "input_values = np.random.rand(30)\n",
        "\n",
        "def MAP(_, row:int):\n",
        "  yield (None, row)\n",
        "\n",
        "def REDUCE(_, rows:list):\n",
        "  yield (_, sum(rows)/len(rows))\n",
        "\n",
        "def RECORDREADER():\n",
        "  return [(None, u) for u in input_values]\n",
        "\n",
        "output = MapReduce(RECORDREADER, MAP, REDUCE)\n",
        "output = list(output)\n",
        "output"
      ],
      "execution_count": 22,
      "outputs": [
        {
          "output_type": "execute_result",
          "data": {
            "text/plain": [
              "[(None, 0.4940336516302871)]"
            ]
          },
          "metadata": {},
          "execution_count": 22
        }
      ]
    },
    {
      "cell_type": "markdown",
      "metadata": {
        "id": "xanzszhsIlLe"
      },
      "source": [
        "### GroupByKey на основе сортировки\n",
        "\n",
        "Реализуйте groupByKey на основе сортировки, проверьте его работу на примерах"
      ]
    },
    {
      "cell_type": "code",
      "metadata": {
        "id": "hQPn3USsIkEC",
        "colab": {
          "base_uri": "https://localhost:8080/"
        },
        "outputId": "e2bb82e3-85cd-4399-cab1-6bc0920799e1"
      },
      "source": [
        "data_list = [\n",
        "    User(id=0, age=55, gender='male', social_contacts=20),\n",
        "    User(id=1, age=25, gender='female', social_contacts=240),\n",
        "    User(id=2, age=25, gender='female', social_contacts=500),\n",
        "    User(id=3, age=33, gender='female', social_contacts=800)\n",
        "]\n",
        "\n",
        "#{key: [...values]}\n",
        "\n",
        "def RECORDREADER(key:str):\n",
        "  for user in data_list:\n",
        "    yield (getattr(user, key), user)\n",
        "\n",
        "def MAP(idx:int, value:int):\n",
        "   yield (idx, value)\n",
        "\n",
        "def groupByKey(iterable):\n",
        "  t = {}\n",
        "  #print(list(iterable))\n",
        "  for k2, v2 in sorted(iterable, key=lambda x:x[0]):\n",
        "   # print(key, value)\n",
        "    if k2 not in t.keys():\n",
        "      t[k2] = []\n",
        "    t[k2] = t.get(k2, []) + [v2]\n",
        "  return t.items()\n",
        "\n",
        "\n",
        "print(list(groupByKey(flatten(map(lambda x: MAP(*x), RECORDREADER(\"id\"))))), \"\\n\")\n",
        "\n",
        "print(list(groupByKey(flatten(map(lambda x: MAP(*x), RECORDREADER(\"gender\"))))), \"\\n\")\n",
        "\n",
        "print(list(groupByKey(flatten(map(lambda x: MAP(*x), RECORDREADER(\"age\"))))))"
      ],
      "execution_count": 23,
      "outputs": [
        {
          "output_type": "stream",
          "name": "stdout",
          "text": [
            "[(0, [User(id=0, age=55, social_contacts=20, gender='male')]), (1, [User(id=1, age=25, social_contacts=240, gender='female')]), (2, [User(id=2, age=25, social_contacts=500, gender='female')]), (3, [User(id=3, age=33, social_contacts=800, gender='female')])] \n",
            "\n",
            "[('female', [User(id=1, age=25, social_contacts=240, gender='female'), User(id=2, age=25, social_contacts=500, gender='female'), User(id=3, age=33, social_contacts=800, gender='female')]), ('male', [User(id=0, age=55, social_contacts=20, gender='male')])] \n",
            "\n",
            "[(25, [User(id=1, age=25, social_contacts=240, gender='female'), User(id=2, age=25, social_contacts=500, gender='female')]), (33, [User(id=3, age=33, social_contacts=800, gender='female')]), (55, [User(id=0, age=55, social_contacts=20, gender='male')])]\n"
          ]
        }
      ]
    },
    {
      "cell_type": "markdown",
      "metadata": {
        "id": "5SgEjCZyGnu6"
      },
      "source": [
        "### Drop duplicates (set construction, unique elements, distinct)\n",
        "\n",
        "Реализуйте распределённую операцию исключения дубликатов"
      ]
    },
    {
      "cell_type": "code",
      "metadata": {
        "id": "okjbyApjGhMt",
        "colab": {
          "base_uri": "https://localhost:8080/"
        },
        "outputId": "311ae55c-8448-4636-edaf-d806ba42410b"
      },
      "source": [
        "import numpy as np\n",
        "\n",
        "data_list = [\n",
        "    User(id=0, age=55, gender='male', social_contacts=20),\n",
        "    User(id=1, age=25, gender='female', social_contacts=240),\n",
        "    User(id=1, age=25, gender='female', social_contacts=240),\n",
        "    User(id=3, age=33, gender='female', social_contacts=800),\n",
        "    User(id=3, age=33, gender='female', social_contacts=800),\n",
        "    User(id=0, age=55, gender='male', social_contacts=20),\n",
        "    User(id=0, age=55, gender='male', social_contacts=20),\n",
        "    User(id=0, age=55, gender='male', social_contacts=20),\n",
        "    User(id=3, age=33, gender='female', social_contacts=800)\n",
        "]\n",
        "\n",
        "\n",
        "maps = 3\n",
        "reducers = 1\n",
        "\n",
        "def INPUTFORMAT():\n",
        "  global maps\n",
        "\n",
        "  def RECORDREADER(split):\n",
        "    for u in split:\n",
        "      yield ((u.id), u)\n",
        "\n",
        "  split_size =  int(np.ceil(len(data_list)/maps))\n",
        "  #print(split_size)\n",
        "  for i in range(0, len(data_list), split_size):\n",
        "    yield RECORDREADER(data_list[i:i+split_size])\n",
        "\n",
        "def MAP(userId:str, user:User):\n",
        "  yield (userId, user)\n",
        "\n",
        "def REDUCE(_, users:list):\n",
        "  yield list(set(users))\n",
        "\n",
        "# try to set COMBINER=REDUCER and look at the number of values sent over the network\n",
        "partitioned_output = MapReduceDistributed(INPUTFORMAT, MAP, REDUCE, COMBINER=None)\n",
        "partitioned_output = [(partition_id, list(partition)) for (partition_id, partition) in partitioned_output]\n",
        "partitioned_output"
      ],
      "execution_count": 24,
      "outputs": [
        {
          "output_type": "stream",
          "name": "stdout",
          "text": [
            "9 key-value pairs were sent over a network.\n"
          ]
        },
        {
          "output_type": "execute_result",
          "data": {
            "text/plain": [
              "[(0,\n",
              "  [[User(id=0, age=55, social_contacts=20, gender='male')],\n",
              "   [User(id=1, age=25, social_contacts=240, gender='female')],\n",
              "   [User(id=3, age=33, social_contacts=800, gender='female')]])]"
            ]
          },
          "metadata": {},
          "execution_count": 24
        }
      ]
    },
    {
      "cell_type": "markdown",
      "metadata": {
        "id": "e7sRGoTXuJze"
      },
      "source": [
        "#Операторы реляционной алгебры\n",
        "### Selection (Выборка)\n",
        "\n",
        "**The Map Function**: Для  каждого кортежа $t \\in R$ вычисляется истинность предиката $C$. В случае истины создаётся пара ключ-значение $(t, t)$. В паре ключ и значение одинаковы, равны $t$.\n",
        "\n",
        "**The Reduce Function:** Роль функции Reduce выполняет функция идентичности, которая возвращает то же значение, что получила на вход.\n",
        "\n"
      ]
    },
    {
      "cell_type": "code",
      "metadata": {
        "id": "4nKIKe59uIfc",
        "colab": {
          "base_uri": "https://localhost:8080/"
        },
        "outputId": "eb5067b6-e44d-4049-80ca-b0f1f2f8d2ed"
      },
      "source": [
        "input_collection = [\n",
        "    User(id=0, age=55, gender='male', social_contacts=20),\n",
        "    User(id=1, age=25, gender='female', social_contacts=240),\n",
        "    User(id=1, age=25, gender='female', social_contacts=240),\n",
        "    User(id=3, age=33, gender='female', social_contacts=800),\n",
        "    User(id=3, age=33, gender='female', social_contacts=800),\n",
        "    User(id=0, age=55, gender='male', social_contacts=20),\n",
        "    User(id=0, age=55, gender='male', social_contacts=20),\n",
        "    User(id=0, age=55, gender='male', social_contacts=20),\n",
        "    User(id=3, age=33, gender='female', social_contacts=800)\n",
        "]\n",
        "\n",
        "\n",
        "def MAP(_, row:NamedTuple):\n",
        "  if (row.social_contacts > 100):\n",
        "    yield (row, row)\n",
        "\n",
        "def REDUCE(_, rows:list):\n",
        "  yield rows\n",
        "\n",
        "def RECORDREADER():\n",
        "  return [(u.id, u) for u in input_collection]\n",
        "\n",
        "output = MapReduce(RECORDREADER, MAP, REDUCE)\n",
        "output = list(output)\n",
        "output"
      ],
      "execution_count": 25,
      "outputs": [
        {
          "output_type": "execute_result",
          "data": {
            "text/plain": [
              "[[User(id=1, age=25, social_contacts=240, gender='female'),\n",
              "  User(id=1, age=25, social_contacts=240, gender='female')],\n",
              " [User(id=3, age=33, social_contacts=800, gender='female'),\n",
              "  User(id=3, age=33, social_contacts=800, gender='female'),\n",
              "  User(id=3, age=33, social_contacts=800, gender='female')]]"
            ]
          },
          "metadata": {},
          "execution_count": 25
        }
      ]
    },
    {
      "cell_type": "markdown",
      "metadata": {
        "id": "w27Ca-_Ku85V"
      },
      "source": [
        "### Projection (Проекция)\n",
        "\n",
        "Проекция на множество атрибутов $S$.\n",
        "\n",
        "**The Map Function:** Для каждого кортежа $t \\in R$ создайте кортеж $t′$, исключая  из $t$ те значения, атрибуты которых не принадлежат  $S$. Верните пару $(t′, t′)$.\n",
        "\n",
        "**The Reduce Function:** Для каждого ключа $t′$, созданного любой Map задачей, вы получаете одну или несколько пар $(t′, t′)$. Reduce функция преобразует $(t′, [t′, t′, . . . , t′])$ в $(t′, t′)$, так, что для ключа $t′$ возвращается одна пара  $(t′, t′)$."
      ]
    },
    {
      "cell_type": "code",
      "metadata": {
        "id": "BEvuY4GqvhS6",
        "colab": {
          "base_uri": "https://localhost:8080/"
        },
        "outputId": "cdf19f00-30a5-4735-a5ac-7b4095f2d2a0"
      },
      "source": [
        "class Projection(NamedTuple):\n",
        "  id:int\n",
        "  age:int\n",
        "  gender:str\n",
        "\n",
        "input_collection = [\n",
        "    User(id=0, age=55, gender='male', social_contacts=20),\n",
        "    User(id=1, age=25, gender='female', social_contacts=240),\n",
        "    User(id=1, age=25, gender='female', social_contacts=240),\n",
        "    User(id=3, age=33, gender='female', social_contacts=800),\n",
        "    User(id=3, age=33, gender='female', social_contacts=800),\n",
        "    User(id=0, age=55, gender='male', social_contacts=20),\n",
        "    User(id=0, age=55, gender='male', social_contacts=20),\n",
        "    User(id=0, age=55, gender='male', social_contacts=20),\n",
        "    User(id=3, age=33, gender='female', social_contacts=800)\n",
        "]\n",
        "\n",
        "\n",
        "def MAP(_, row:NamedTuple):\n",
        "  pr_user = Projection(id=row.id,age=row.age,gender=row.gender)\n",
        "  yield (pr_user, pr_user)\n",
        "\n",
        "def REDUCE(row, rows:list):\n",
        "  yield (row,row)\n",
        "\n",
        "def RECORDREADER():\n",
        "  return [(u.id, u) for u in input_collection]\n",
        "\n",
        "output = MapReduce(RECORDREADER, MAP, REDUCE)\n",
        "output = list(output)\n",
        "output"
      ],
      "execution_count": 31,
      "outputs": [
        {
          "output_type": "execute_result",
          "data": {
            "text/plain": [
              "[(Projection(id=0, age=55, gender='male'),\n",
              "  Projection(id=0, age=55, gender='male')),\n",
              " (Projection(id=1, age=25, gender='female'),\n",
              "  Projection(id=1, age=25, gender='female')),\n",
              " (Projection(id=3, age=33, gender='female'),\n",
              "  Projection(id=3, age=33, gender='female'))]"
            ]
          },
          "metadata": {},
          "execution_count": 31
        }
      ]
    },
    {
      "cell_type": "markdown",
      "metadata": {
        "id": "7gau6lKXvn2R"
      },
      "source": [
        "### Union (Объединение)\n",
        "\n",
        "**The Map Function:** Превратите каждый входной кортеж $t$ в пару ключ-значение $(t, t)$.\n",
        "\n",
        "**The Reduce Function:** С каждым ключом $t$ будет ассоциировано одно или два значений. В обоих случаях создайте $(t, t)$ в качестве выходного значения."
      ]
    },
    {
      "cell_type": "code",
      "metadata": {
        "id": "Sns7a5agv3nw",
        "colab": {
          "base_uri": "https://localhost:8080/"
        },
        "outputId": "ae1015cf-ce47-4c56-d479-f9d37628eb9e"
      },
      "source": [
        "input_collection_1 = [\n",
        "    User(id=0, age=55, gender='male', social_contacts=20),\n",
        "    User(id=1, age=25, gender='female', social_contacts=240),\n",
        "    User(id=3, age=33, gender='female', social_contacts=800)\n",
        "]\n",
        "\n",
        "input_collection_2 = [\n",
        "  User(id=2, age=21, gender='female', social_contacts=270),\n",
        "  User(id=4, age=33, gender='female', social_contacts=40),\n",
        "  User(id=8, age=44, gender='male', social_contacts=400),\n",
        "  User(id=16, age=37, gender='male', social_contacts=660),\n",
        "  User(id=32, age=11, gender='female', social_contacts=540)\n",
        "]\n",
        "\n",
        "input_collection = [input_collection_1,input_collection_2]\n",
        "\n",
        "def MAP(_, row:NamedTuple):\n",
        "  yield (row, row)\n",
        "\n",
        "def REDUCE(row, rows:list):\n",
        "  yield (row,row)\n",
        "\n",
        "def RECORDREADER():\n",
        "  return [(u.id, u) for input_col in input_collection for u in input_col]\n",
        "\n",
        "output = MapReduce(RECORDREADER, MAP, REDUCE)\n",
        "output = list(output)\n",
        "output"
      ],
      "execution_count": 46,
      "outputs": [
        {
          "output_type": "execute_result",
          "data": {
            "text/plain": [
              "[(User(id=0, age=55, social_contacts=20, gender='male'),\n",
              "  User(id=0, age=55, social_contacts=20, gender='male')),\n",
              " (User(id=1, age=25, social_contacts=240, gender='female'),\n",
              "  User(id=1, age=25, social_contacts=240, gender='female')),\n",
              " (User(id=3, age=33, social_contacts=800, gender='female'),\n",
              "  User(id=3, age=33, social_contacts=800, gender='female')),\n",
              " (User(id=2, age=21, social_contacts=270, gender='female'),\n",
              "  User(id=2, age=21, social_contacts=270, gender='female')),\n",
              " (User(id=4, age=33, social_contacts=40, gender='female'),\n",
              "  User(id=4, age=33, social_contacts=40, gender='female')),\n",
              " (User(id=8, age=44, social_contacts=400, gender='male'),\n",
              "  User(id=8, age=44, social_contacts=400, gender='male')),\n",
              " (User(id=16, age=37, social_contacts=660, gender='male'),\n",
              "  User(id=16, age=37, social_contacts=660, gender='male')),\n",
              " (User(id=32, age=11, social_contacts=540, gender='female'),\n",
              "  User(id=32, age=11, social_contacts=540, gender='female'))]"
            ]
          },
          "metadata": {},
          "execution_count": 46
        }
      ]
    },
    {
      "cell_type": "markdown",
      "metadata": {
        "id": "dQ8TuEbjv4J8"
      },
      "source": [
        "### Intersection (Пересечение)\n",
        "\n",
        "**The Map Function:** Превратите каждый кортеж $t$ в пары ключ-значение $(t, t)$.\n",
        "\n",
        "**The Reduce Function:** Если для ключа $t$ есть список из двух элементов $[t, t]$ $-$ создайте пару $(t, t)$. Иначе, ничего не создавайте."
      ]
    },
    {
      "cell_type": "code",
      "metadata": {
        "id": "XKlBZh4IwERR",
        "colab": {
          "base_uri": "https://localhost:8080/"
        },
        "outputId": "267f9220-fe3b-46c1-8e08-ad3332a8a2cd"
      },
      "source": [
        "input_collection_1 = [\n",
        "    User(id=0, age=55, gender='male', social_contacts=20),\n",
        "    User(id=1, age=25, gender='female', social_contacts=240),\n",
        "    User(id=2, age=21, gender='female', social_contacts=270),\n",
        "    User(id=4, age=33, gender='female', social_contacts=40),\n",
        "    User(id=8, age=44, gender='male', social_contacts=400),\n",
        "    User(id=3, age=33, gender='female', social_contacts=800)\n",
        "]\n",
        "\n",
        "input_collection_2 = [\n",
        "  User(id=2, age=21, gender='female', social_contacts=270),\n",
        "  User(id=4, age=33, gender='female', social_contacts=40),\n",
        "  User(id=8, age=44, gender='male', social_contacts=400),\n",
        "  User(id=16, age=37, gender='male', social_contacts=660),\n",
        "  User(id=32, age=11, gender='female', social_contacts=540)\n",
        "]\n",
        "\n",
        "input_collection = [input_collection_1,input_collection_2]\n",
        "\n",
        "def MAP(_, row:NamedTuple):\n",
        "  yield (row, row)\n",
        "\n",
        "def REDUCE(row, rows:list):\n",
        "  if len(rows) == 2:\n",
        "    yield (row,row)\n",
        "\n",
        "def RECORDREADER():\n",
        "  return [(u.id, u) for input_col in input_collection for u in input_col]\n",
        "\n",
        "output = MapReduce(RECORDREADER, MAP, REDUCE)\n",
        "output = list(output)\n",
        "output"
      ],
      "execution_count": 48,
      "outputs": [
        {
          "output_type": "execute_result",
          "data": {
            "text/plain": [
              "[(User(id=2, age=21, social_contacts=270, gender='female'),\n",
              "  User(id=2, age=21, social_contacts=270, gender='female')),\n",
              " (User(id=4, age=33, social_contacts=40, gender='female'),\n",
              "  User(id=4, age=33, social_contacts=40, gender='female')),\n",
              " (User(id=8, age=44, social_contacts=400, gender='male'),\n",
              "  User(id=8, age=44, social_contacts=400, gender='male'))]"
            ]
          },
          "metadata": {},
          "execution_count": 48
        }
      ]
    },
    {
      "cell_type": "markdown",
      "metadata": {
        "id": "AVOpqoY3wE5k"
      },
      "source": [
        "### Difference (Разница)\n",
        "\n",
        "**The Map Function:** Для кортежа $t \\in R$, создайте пару $(t, R)$, и для кортежа $t \\in S$, создайте пару $(t, S)$. Задумка заключается в том, чтобы значение пары было именем отношения $R$ or $S$, которому принадлежит кортеж (а лучше, единичный бит, по которому можно два отношения различить $R$ or $S$), а не весь набор атрибутов отношения.\n",
        "\n",
        "**The Reduce Function:** Для каждого ключа $t$, если соответствующее значение является списком $[R]$, создайте пару $(t, t)$. В иных случаях не предпринимайте действий."
      ]
    },
    {
      "cell_type": "code",
      "metadata": {
        "id": "QE_AC09lwZIZ",
        "colab": {
          "base_uri": "https://localhost:8080/"
        },
        "outputId": "1518c6e8-ea7e-4b8c-9fc9-1104aec63293"
      },
      "source": [
        "input_collection_1 = [\n",
        "    User(id=0, age=55, gender='male', social_contacts=20),\n",
        "    User(id=1, age=25, gender='female', social_contacts=240),\n",
        "    User(id=2, age=21, gender='female', social_contacts=270),\n",
        "    User(id=4, age=33, gender='female', social_contacts=40),\n",
        "    User(id=8, age=44, gender='male', social_contacts=400),\n",
        "    User(id=3, age=33, gender='female', social_contacts=800)\n",
        "]\n",
        "\n",
        "input_collection_2 = [\n",
        "  User(id=2, age=21, gender='female', social_contacts=270),\n",
        "  User(id=4, age=33, gender='female', social_contacts=40),\n",
        "  User(id=8, age=44, gender='male', social_contacts=400),\n",
        "  User(id=16, age=37, gender='male', social_contacts=660),\n",
        "  User(id=32, age=11, gender='female', social_contacts=540)\n",
        "]\n",
        "\n",
        "input_collection = [input_collection_1,input_collection_2]\n",
        "\n",
        "def MAP(R, row:NamedTuple):\n",
        "  yield (row, R)\n",
        "\n",
        "def REDUCE(row, rows:list):\n",
        "  if len(rows) == 1 and rows[0]==0:\n",
        "    yield (row,row)\n",
        "\n",
        "def RECORDREADER():\n",
        "  return [(id, u) for id, input_col in enumerate(input_collection) for u in input_col]\n",
        "\n",
        "output = MapReduce(RECORDREADER, MAP, REDUCE)\n",
        "output = list(output)\n",
        "output"
      ],
      "execution_count": 66,
      "outputs": [
        {
          "output_type": "execute_result",
          "data": {
            "text/plain": [
              "[(User(id=0, age=55, social_contacts=20, gender='male'),\n",
              "  User(id=0, age=55, social_contacts=20, gender='male')),\n",
              " (User(id=1, age=25, social_contacts=240, gender='female'),\n",
              "  User(id=1, age=25, social_contacts=240, gender='female')),\n",
              " (User(id=3, age=33, social_contacts=800, gender='female'),\n",
              "  User(id=3, age=33, social_contacts=800, gender='female'))]"
            ]
          },
          "metadata": {},
          "execution_count": 66
        }
      ]
    },
    {
      "cell_type": "markdown",
      "metadata": {
        "id": "j8I58V2VwhSm"
      },
      "source": [
        "### Natural Join\n",
        "\n",
        "**The Map Function:** Для каждого кортежа $(a, b)$ отношения $R$, создайте пару $(b,(R, a))$. Для каждого кортежа $(b, c)$ отношения $S$, создайте пару $(b,(S, c))$.\n",
        "\n",
        "**The Reduce Function:** Каждый ключ $b$ будет асоциирован со списком пар, которые принимают форму либо $(R, a)$, либо $(S, c)$. Создайте все пары, одни, состоящие из  первого компонента $R$, а другие, из первого компонента $S$, то есть $(R, a)$ и $(S, c)$. На выходе вы получаете последовательность пар ключ-значение из списков ключей и значений. Ключ не нужен. Каждое значение, это тройка $(a, b, c)$ такая, что $(R, a)$ и $(S, c)$ это принадлежат входному списку значений."
      ]
    },
    {
      "cell_type": "code",
      "metadata": {
        "id": "yHiuuTctw86I",
        "colab": {
          "base_uri": "https://localhost:8080/"
        },
        "outputId": "8b951cdb-4616-49fc-e183-d5fe13c6715b"
      },
      "source": [
        "class IdGender(NamedTuple):\n",
        "  id:int\n",
        "  gender: str\n",
        "\n",
        "class IdSocialContact(NamedTuple):\n",
        "  id:int\n",
        "  social_contacts: int\n",
        "\n",
        "input_collection_1 = [\n",
        "    IdGender(id=0, gender='male'),\n",
        "    IdGender(id=0, gender='female'),\n",
        "    IdGender(id=1, gender='female'),\n",
        "    IdGender(id=2, gender='female')\n",
        "]\n",
        "\n",
        "input_collection_2 = [\n",
        "  IdSocialContact(id=0, social_contacts=270),\n",
        "  IdSocialContact(id=0, social_contacts=112),\n",
        "  IdSocialContact(id=1, social_contacts=40),\n",
        "  IdSocialContact(id=2, social_contacts=400)\n",
        "]\n",
        "\n",
        "input_collection = [input_collection_1,input_collection_2]\n",
        "\n",
        "def MAP(R, row:NamedTuple):\n",
        "  yield (row.id, (row, R))\n",
        "\n",
        "def REDUCE(rowId, rows:list):\n",
        "  a_data = [row[0].gender for row in rows if row[1] ==0]\n",
        "  c_data = [row[0].social_contacts for row in rows if row[1] ==1]\n",
        "  for a in a_data:\n",
        "    for c in c_data:\n",
        "      yield (rowId, a, c)\n",
        "\n",
        "def RECORDREADER():\n",
        "  return [(id, u) for id, input_col in enumerate(input_collection) for u in input_col]\n",
        "\n",
        "output = MapReduce(RECORDREADER, MAP, REDUCE)\n",
        "output = list(output)\n",
        "output"
      ],
      "execution_count": 86,
      "outputs": [
        {
          "output_type": "execute_result",
          "data": {
            "text/plain": [
              "[(0, 'male', 270),\n",
              " (0, 'male', 112),\n",
              " (0, 'female', 270),\n",
              " (0, 'female', 112),\n",
              " (1, 'female', 40),\n",
              " (2, 'female', 400)]"
            ]
          },
          "metadata": {},
          "execution_count": 86
        }
      ]
    },
    {
      "cell_type": "markdown",
      "metadata": {
        "id": "kYdlr0YUxE27"
      },
      "source": [
        "### Grouping and Aggregation (Группировка и аггрегация)\n",
        "\n",
        "**The Map Function:** Для каждого кортежа $(a, b, c$) создайте пару $(a, b)$.\n",
        "\n",
        "**The Reduce Function:** Ключ представляет ту или иную группу. Примение аггрегирующую операцию $\\theta$ к списку значений $[b1, b2, . . . , bn]$ ассоциированных с ключом $a$. Возвращайте в выходной поток $(a, x)$, где $x$ результат применения  $\\theta$ к списку. Например, если $\\theta$ это $SUM$, тогда $x = b1 + b2 + · · · + bn$, а если $\\theta$ is $MAX$, тогда $x$ это максимальное из значений $b1, b2, . . . , bn$."
      ]
    },
    {
      "cell_type": "code",
      "metadata": {
        "id": "MLPckfEGxico",
        "colab": {
          "base_uri": "https://localhost:8080/"
        },
        "outputId": "5a924257-799a-401d-e0e2-b0379d0c72a6"
      },
      "source": [
        "class UserSalary(NamedTuple):\n",
        "  id:int\n",
        "  salary:int\n",
        "  gender:str\n",
        "\n",
        "\n",
        "input_collection_1 = [\n",
        "  UserSalary(id=0, gender='male', salary=210),\n",
        "  UserSalary(id=0, gender='female', salary=55),\n",
        "  UserSalary(id=1, gender='female', salary=370),\n",
        "  UserSalary(id=1, gender='female', salary=670)\n",
        "]\n",
        "\n",
        "input_collection_2 = [\n",
        "  UserSalary(id=0, gender='male', salary=270),\n",
        "  UserSalary(id=0, gender='female', salary=112),\n",
        "  UserSalary(id=1, gender='female', salary=40),\n",
        "  UserSalary(id=1, gender='female', salary=400)\n",
        "]\n",
        "\n",
        "\n",
        "input_collection = [input_collection_1,input_collection_2]\n",
        "\n",
        "def RECORDREADER():\n",
        "  return [(u.id, u) for input_col in input_collection for u in input_col]\n",
        "\n",
        "def MAP(userID:int, user:UserSalary):\n",
        "  yield (userID, user.salary)\n",
        "\n",
        "def REDUCE(userId:int, data:list):\n",
        "  yield (userId, max(data))\n",
        "\n",
        "output = MapReduce(RECORDREADER, MAP, REDUCE)\n",
        "output = list(output)\n",
        "output"
      ],
      "execution_count": 98,
      "outputs": [
        {
          "output_type": "execute_result",
          "data": {
            "text/plain": [
              "[(0, 270), (1, 670)]"
            ]
          },
          "metadata": {},
          "execution_count": 98
        }
      ]
    },
    {
      "cell_type": "markdown",
      "metadata": {
        "id": "03IffTEOJgOb"
      },
      "source": [
        "#"
      ]
    },
    {
      "cell_type": "markdown",
      "metadata": {
        "id": "IIrRgvG4RIS4"
      },
      "source": [
        "### Matrix-Vector multiplication\n",
        "\n",
        "Случай, когда вектор не помещается в памяти Map задачи\n"
      ]
    },
    {
      "cell_type": "code",
      "metadata": {
        "id": "KQhDbiL3zS9r",
        "colab": {
          "base_uri": "https://localhost:8080/"
        },
        "outputId": "4b359973-a7f2-499c-bbd4-7a714224c514"
      },
      "source": [
        "import numpy as np\n",
        "\n",
        "mat = np.ones((4, 4))\n",
        "vec = np.array([2, 4, 1, 1])\n",
        "\n",
        "maps = 3\n",
        "reducers = 1\n",
        "\n",
        "def INPUTFORMAT():\n",
        "  global maps\n",
        "\n",
        "  def RECORDREADER(split):\n",
        "    for i in range(split.shape[0]):\n",
        "      for j in range(split.shape[1]):\n",
        "        yield (i, (split[i, j], vec[j],split.shape[1]))\n",
        "\n",
        "  split_size = int(np.ceil(len(mat) / maps))\n",
        "\n",
        "  for i in range(0, len(mat), split_size):\n",
        "    yield RECORDREADER(mat[i: i + split_size])\n",
        "\n",
        "\n",
        "def MAP(coordinates, values):\n",
        "  i = coordinates\n",
        "  mat_val, vec_val, split_size = values\n",
        "  yield (split_size, mat_val * vec_val)\n",
        "\n",
        "\n",
        "def REDUCE(sp, products:Iterator[NamedTuple]):\n",
        "  split_size = sp\n",
        "  yield (sum(products)/split_size, sum(products)/split_size)\n",
        "\n",
        "\n",
        "partitioned_output = MapReduceDistributed(INPUTFORMAT, MAP, REDUCE, COMBINER=None)\n",
        "partitioned_output = [(partition_id, list(partition)) for (partition_id, partition) in partitioned_output]\n",
        "partitioned_output"
      ],
      "execution_count": 122,
      "outputs": [
        {
          "output_type": "stream",
          "name": "stdout",
          "text": [
            "16 key-value pairs were sent over a network.\n"
          ]
        },
        {
          "output_type": "execute_result",
          "data": {
            "text/plain": [
              "[(0, [(8.0, 8.0)])]"
            ]
          },
          "metadata": {},
          "execution_count": 122
        }
      ]
    },
    {
      "cell_type": "markdown",
      "metadata": {
        "id": "GIo2t7nNxvA9"
      },
      "source": [
        "## Matrix multiplication (Перемножение матриц)\n",
        "\n",
        "Если у нас есть матрица $M$ с элементами $m_{ij}$ в строке $i$ и столбце $j$, и матрица $N$ с элементами $n_{jk}$ в строке $j$ и столбце $k$, тогда их произведение $P = MN$ есть матрица $P$ с элементами $p_{ik}$ в строке $i$ и столбце $k$, где\n",
        "\n",
        "$$p_{ik} =\\sum_{j} m_{ij}n_{jk}$$\n",
        "\n",
        "Необходимым требованием является одинаковое количество столбцов в $M$ и строк в $N$, чтобы операция суммирования по  $j$ была осмысленной. Мы можем размышлять о матрице, как об отношении с тремя атрибутами: номер строки, номер столбца, само значение. Таким образом матрица $M$ предстваляется как отношение $ M(I, J, V )$, с кортежами $(i, j, m_{ij})$, и, аналогично, матрица $N$ представляется как отношение $N(J, K, W)$, с кортежами $(j, k, n_{jk})$. Так как большие матрицы как правило разреженные (большинство значений равно 0), и так как мы можем нулевыми значениями пренебречь (не хранить), такое реляционное представление достаточно эффективно для больших матриц. Однако, возможно, что координаты $i$, $j$, и $k$ неявно закодированы в смещение позиции элемента относительно начала файла, вместо явного хранения. Тогда, функция Map (или Reader) должна быть разработана таким образом, чтобы реконструировать компоненты $I$, $J$, и $K$ кортежей из смещения.\n",
        "\n",
        "Произведение $MN$ это фактически join, за которым следуют группировка по ключу и аггрегация. Таким образом join отношений $M(I, J, V )$ и $N(J, K, W)$, имеющих общим только атрибут $J$, создаст кортежи $(i, j, k, v, w)$ из каждого кортежа $(i, j, v) \\in M$ и кортежа $(j, k, w) \\in N$. Такой 5 компонентный кортеж представляет пару элементов матрицы $(m_{ij} , n_{jk})$. Что нам хотелось бы получить на самом деле, это произведение этих элементов, то есть, 4 компонентный кортеж$(i, j, k, v \\times w)$, так как он представляет произведение $m_{ij}n_{jk}$. Мы представляем отношение как результат одной MapReduce операции, в которой мы можем произвести группировку и аггрегацию, с $I$ и $K$  атрибутами, по которым идёт группировка, и суммой  $V \\times W$.\n",
        "\n",
        "\n",
        "\n"
      ]
    },
    {
      "cell_type": "code",
      "metadata": {
        "id": "1MBkGaLAYVCt"
      },
      "source": [
        "# MapReduce model\n",
        "def flatten(nested_iterable):\n",
        "  for iterable in nested_iterable:\n",
        "    for element in iterable:\n",
        "      yield element\n",
        "\n",
        "def groupbykey(iterable):\n",
        "  t = {}\n",
        "  for (k2, v2) in iterable:\n",
        "    t[k2] = t.get(k2, []) + [v2]\n",
        "  return t.items()\n",
        "\n",
        "def MapReduce(RECORDREADER, MAP, REDUCE):\n",
        "  return flatten(map(lambda x: REDUCE(*x), groupbykey(flatten(map(lambda x: MAP(*x), RECORDREADER())))))"
      ],
      "execution_count": 27,
      "outputs": []
    },
    {
      "cell_type": "markdown",
      "metadata": {
        "id": "sMspsOT0ZB35"
      },
      "source": [
        "Реализуйте перемножение матриц с использованием модельного кода MapReduce для одной машины в случае, когда одна матрица хранится в памяти, а другая генерируется RECORDREADER-ом."
      ]
    },
    {
      "cell_type": "code",
      "metadata": {
        "id": "psP1XekbsEjS"
      },
      "source": [
        "import numpy as np\n",
        "I = 2\n",
        "J = 3\n",
        "K = 4*10\n",
        "small_mat = np.random.rand(I,J) # it is legal to access this from RECORDREADER, MAP, REDUCE\n",
        "big_mat = np.random.rand(J,K)\n",
        "\n",
        "def RECORDREADER():\n",
        "  for j in range(big_mat.shape[0]):\n",
        "    for k in range(big_mat.shape[1]):\n",
        "      yield ((j,k), big_mat[j,k])\n",
        "\n",
        "def MAP(k1, v1):\n",
        "  (j, k) = k1\n",
        "  w = v1\n",
        "  for row in range(small_mat.shape[0]):\n",
        "    yield ((row, k), w * small_mat[row][j])\n",
        "  # solution code that yield(k2,v2) pairs\n",
        "\n",
        "def REDUCE(key, values):\n",
        "  (i, k) = key\n",
        "  yield(key,sum(values))\n",
        "  # solution code that yield(k3,v3) pairs"
      ],
      "execution_count": 128,
      "outputs": []
    },
    {
      "cell_type": "markdown",
      "metadata": {
        "id": "rnt306LHhHrm"
      },
      "source": [
        "Проверьте своё решение"
      ]
    },
    {
      "cell_type": "code",
      "metadata": {
        "id": "Ewy_ZNYqW5a2",
        "colab": {
          "base_uri": "https://localhost:8080/"
        },
        "outputId": "1e63d901-63d1-4bb9-b5cf-64c959e7013c"
      },
      "source": [
        "# CHECK THE SOLUTION\n",
        "reference_solution = np.matmul(small_mat, big_mat)\n",
        "solution = MapReduce(RECORDREADER, MAP, REDUCE)\n",
        "\n",
        "def asmatrix(reduce_output):\n",
        "  reduce_output = list(reduce_output)\n",
        "  I = max(i for ((i,k), vw) in reduce_output)+1\n",
        "  K = max(k for ((i,k), vw) in reduce_output)+1\n",
        "  mat = np.empty(shape=(I,K))\n",
        "  for ((i,k), vw) in reduce_output:\n",
        "    mat[i,k] = vw\n",
        "  return mat\n",
        "\n",
        "np.allclose(reference_solution, asmatrix(solution)) # should return true"
      ],
      "execution_count": 129,
      "outputs": [
        {
          "output_type": "execute_result",
          "data": {
            "text/plain": [
              "True"
            ]
          },
          "metadata": {},
          "execution_count": 129
        }
      ]
    },
    {
      "cell_type": "code",
      "metadata": {
        "id": "TK7v4CEcfxqf",
        "colab": {
          "base_uri": "https://localhost:8080/"
        },
        "outputId": "1486e34b-c265-4dc9-8818-305f315c8259"
      },
      "source": [
        "reduce_output = list(MapReduce(RECORDREADER, MAP, REDUCE))\n",
        "max(i for ((i,k), vw) in reduce_output)"
      ],
      "execution_count": 130,
      "outputs": [
        {
          "output_type": "execute_result",
          "data": {
            "text/plain": [
              "1"
            ]
          },
          "metadata": {},
          "execution_count": 130
        }
      ]
    },
    {
      "cell_type": "markdown",
      "metadata": {
        "id": "i4yyg3kOZqJJ"
      },
      "source": [
        "Реализуйте перемножение матриц  с использованием модельного кода MapReduce для одной машины в случае, когда обе матрицы генерируются в RECORDREADER. Например, сначала одна, а потом другая."
      ]
    },
    {
      "cell_type": "code",
      "metadata": {
        "id": "3B7rIAJCaHZq",
        "colab": {
          "base_uri": "https://localhost:8080/"
        },
        "outputId": "a4d2374a-de97-4dcb-feb7-1472d2a2c358"
      },
      "source": [
        "def RECORDREADER():\n",
        "  for k in range(big_mat.shape[1]):\n",
        "    for i in range(small_mat.shape[0]):\n",
        "      for j in range(small_mat.shape[1]):\n",
        "        yield ((i, k), (0, small_mat[i, j]))\n",
        "\n",
        "  for i in range(small_mat.shape[0]):\n",
        "    for j in range(big_mat.shape[0]):\n",
        "      for k in range(big_mat.shape[1]):\n",
        "        yield ((i, k), (1, big_mat[j, k]))\n",
        "\n",
        "\n",
        "def MAP(k1, v1):\n",
        "  yield (k1, v1)\n",
        "\n",
        "\n",
        "def REDUCE(k2, v2):\n",
        "  yield (k2, np.dot([val for id, val in v2 if id == 0], [val for id, val in v2 if id == 1]))\n",
        "\n",
        "\n",
        "output = MapReduce(RECORDREADER, MAP, REDUCE)\n",
        "\n",
        "np.allclose(reference_solution, asmatrix(output)) # should return true"
      ],
      "execution_count": 136,
      "outputs": [
        {
          "output_type": "execute_result",
          "data": {
            "text/plain": [
              "True"
            ]
          },
          "metadata": {},
          "execution_count": 136
        }
      ]
    },
    {
      "cell_type": "markdown",
      "metadata": {
        "id": "mXyzQi1DaIwo"
      },
      "source": [
        "Реализуйте перемножение матриц с использованием модельного кода MapReduce Distributed, когда каждая матрица генерируется в своём RECORDREADER."
      ]
    },
    {
      "cell_type": "code",
      "metadata": {
        "id": "TDM_s78Rb5eR",
        "colab": {
          "base_uri": "https://localhost:8080/"
        },
        "outputId": "60951279-8466-4777-dbf5-6ecce105c07b"
      },
      "source": [
        "def INPUTFORMAT():\n",
        "  global maps\n",
        "  def RECORDREADER_SMALL(split, idx):\n",
        "    for k in range(big_mat.shape[1]):\n",
        "      for i in range(split.shape[0]):\n",
        "        for j in range(split.shape[1]):\n",
        "          yield ((i + idx, k), (0, split[i, j]))\n",
        "\n",
        "\n",
        "  split_size = int(np.ceil( small_mat.shape[0] / maps))\n",
        "  for i in range(0, small_mat.shape[0], split_size):\n",
        "    yield RECORDREADER_SMALL(small_mat[i : i + split_size], i)\n",
        "\n",
        "\n",
        "  def RECORDREADER_BIG(split):\n",
        "    for i in range(small_mat.shape[0]):\n",
        "      for j in range(split.shape[0]):\n",
        "        for k in range(split.shape[1]):\n",
        "          yield ((i, k), (1, split[j, k]))\n",
        "\n",
        "\n",
        "  split_size = int(np.ceil(big_mat.shape[0] / maps))\n",
        "  for i in range(0, big_mat.shape[0], split_size):\n",
        "    yield RECORDREADER_BIG(big_mat[i : i + split_size])\n",
        "\n",
        "def distributed(result):\n",
        "  rs = [value for _,values in result for value in values]\n",
        "  return asmatrix((k, v) for k, v in set(rs))\n",
        "\n",
        "def MAP(k1, v1):\n",
        "  yield (k1, v1)\n",
        "\n",
        "\n",
        "def REDUCE(k2, v2):\n",
        "  yield (k2, np.dot([val for id, val in v2 if id == 0], [val for id, val in v2 if id == 1]))\n",
        "\n",
        "\n",
        "partitioned_output = MapReduceDistributed(INPUTFORMAT, MAP, REDUCE, COMBINER=None)\n",
        "partitioned_output = [(partition_id, list(partition)) for (partition_id, partition) in partitioned_output]\n",
        "\n",
        "\n",
        "np.allclose(reference_solution, distributed(partitioned_output)) # should return true"
      ],
      "execution_count": 167,
      "outputs": [
        {
          "output_type": "stream",
          "name": "stdout",
          "text": [
            "480 key-value pairs were sent over a network.\n"
          ]
        },
        {
          "output_type": "execute_result",
          "data": {
            "text/plain": [
              "True"
            ]
          },
          "metadata": {},
          "execution_count": 167
        }
      ]
    },
    {
      "cell_type": "markdown",
      "metadata": {
        "id": "ZuSA2P9Db6UM"
      },
      "source": [
        "Обобщите предыдущее решение на случай, когда каждая матрица генерируется несколькими RECORDREADER-ами, и проверьте его работоспособность. Будет ли работать решение, если RECORDREADER-ы будут генерировать случайное подмножество элементов матрицы?"
      ]
    },
    {
      "cell_type": "code",
      "metadata": {
        "id": "ehN0FqRDcwU5",
        "colab": {
          "base_uri": "https://localhost:8080/"
        },
        "outputId": "77a0a762-f434-4771-d72f-c18558312fed"
      },
      "source": [
        "maps = 2\n",
        "reducers = 1\n",
        "\n",
        "\n",
        "def INPUTFORMAT():\n",
        "  global maps\n",
        "\n",
        "  def RECORDREADER_SMALL(split, idx):\n",
        "    for k in range(big_mat.shape[0]):\n",
        "      for i in range(split.shape[0]):\n",
        "        for j in range(split.shape[1]):\n",
        "          yield ((i + idx, k), (0, split[i, j]))\n",
        "\n",
        "  def RECORDREADER_BIG(split, idx):\n",
        "    for i in range(small_mat.shape[0]):\n",
        "      for j in range(split.shape[0]):\n",
        "        for k in range(split.shape[1]):\n",
        "          yield ((i, k + idx), (1, split[j, k]))\n",
        "\n",
        "  small_readers = {\n",
        "      0: RECORDREADER_SMALL,\n",
        "      1: RECORDREADER_SMALL\n",
        "  }\n",
        "\n",
        "\n",
        "  big_readers = {\n",
        "       0: RECORDREADER_BIG,\n",
        "       1: RECORDREADER_BIG\n",
        "  }\n",
        "\n",
        "  split_size_rows = int(np.ceil(small_mat.shape[0] / maps))\n",
        "  split_size_cols = int(np.ceil(small_mat.shape[1] / maps))\n",
        "\n",
        "  counter = -1\n",
        "  for i in range(0, small_mat.shape[0], split_size_rows):\n",
        "    for j in range(0, small_mat.shape[1], split_size_cols):\n",
        "      counter += 1\n",
        "      yield small_readers[counter % len(small_readers)](small_mat[i : i + split_size_rows, j : j + split_size_cols], i)\n",
        "\n",
        "\n",
        "  split_size_rows = int(np.ceil(big_mat.shape[0] / maps))\n",
        "  split_size_cols = int(np.ceil(big_mat.shape[1] / maps))\n",
        "\n",
        "  counter = -1\n",
        "  for i in range(0, big_mat.shape[0], split_size_rows):\n",
        "    for j in range(0, big_mat.shape[1], split_size_cols):\n",
        "      counter += 1\n",
        "      yield big_readers[counter % len(big_readers)](big_mat[i : i + split_size_rows, j : j + split_size_cols], j)\n",
        "\n",
        "\n",
        "def MAP(k1, v1):\n",
        "  yield (k1, v1)\n",
        "\n",
        "\n",
        "def REDUCE(k2, v2):\n",
        "  yield (k2, np.dot([val for id, val in v2 if id == 0], [val for id, val in v2 if id == 1]))\n",
        "\n",
        "\n",
        "output = MapReduceDistributed(INPUTFORMAT, MAP, REDUCE, COMBINER=None)\n",
        "output = [(partition_id, list(partition)) for (partition_id, partition) in partitioned_output]\n",
        "\n",
        "def distributed(result):\n",
        "  rs = [value for _,values in result for value in values]\n",
        "  return asmatrix((k, v) for k, v in set(rs))\n",
        "  return asmatrix((k, v) for k, v in count.items())\n",
        "\n",
        "np.allclose(reference_solution, distributed(output)) # should return true"
      ],
      "execution_count": 171,
      "outputs": [
        {
          "output_type": "stream",
          "name": "stdout",
          "text": [
            "258 key-value pairs were sent over a network.\n"
          ]
        },
        {
          "output_type": "execute_result",
          "data": {
            "text/plain": [
              "True"
            ]
          },
          "metadata": {},
          "execution_count": 171
        }
      ]
    },
    {
      "cell_type": "markdown",
      "source": [
        "Будет ли работать решение, если RECORDREADER-ы будут генерировать случайное подмножество элементов матрицы?\n",
        "\n",
        "Нет, только в том случае когда будут совпадать порядки"
      ],
      "metadata": {
        "id": "NOzQbA6FeV-3"
      }
    }
  ]
}