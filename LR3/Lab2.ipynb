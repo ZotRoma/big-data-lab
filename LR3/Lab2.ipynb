{
 "cells": [
  {
   "cell_type": "code",
   "execution_count": 64,
   "id": "617eb4fa-d015-4fa4-9ac9-cc21fa63b48e",
   "metadata": {},
   "outputs": [],
   "source": [
    "from pyspark.sql import SparkSession\n",
    "from pyspark.sql.types import StructType, StructField, StringType, IntegerType\n",
    "from pyspark.sql.functions import col\n",
    "from datetime import datetime\n",
    "\n",
    "# Инициализация SparkSession\n",
    "spark = SparkSession.builder.appName(\"ProgrammingLanguageReport\").getOrCreate()"
   ]
  },
  {
   "cell_type": "code",
   "execution_count": 65,
   "id": "b9ba5bfc-b559-4a61-b97e-4930fb96b32c",
   "metadata": {},
   "outputs": [],
   "source": [
    "# Загрузка данных\n",
    "posts_path = \"posts_sample.xml\"\n",
    "programming_languages_path = \"programming-languages.csv\"\n",
    "years = list(map(str, range(2010, 2021)))\n",
    "top_count = 10"
   ]
  },
  {
   "cell_type": "code",
   "execution_count": 16,
   "id": "1c4fde60-d2da-43c3-9d1e-4d4844b6f90c",
   "metadata": {},
   "outputs": [],
   "source": [
    "!hadoop fs -put /home/Lab2/posts_sample.xml ./\n",
    "!hadoop fs -put /home/Lab2/programming-languages.csv ./"
   ]
  },
  {
   "cell_type": "code",
   "execution_count": 66,
   "id": "bd9e77b8-d90a-4ba4-8d34-46a03c97d50f",
   "metadata": {},
   "outputs": [],
   "source": [
    "# Загрузка RDD для постов\n",
    "posts_rdd = spark.sparkContext.textFile(posts_path)\n",
    "posts_count = posts_rdd.count()\n",
    "posts_raw = posts_rdd.zipWithIndex().filter(lambda row: row[1] > 2 and row[1] < posts_count - 1).map(lambda row: row[0])"
   ]
  },
  {
   "cell_type": "code",
   "execution_count": 67,
   "id": "d77c1112-980e-4630-a44c-5099f4c5662f",
   "metadata": {},
   "outputs": [
    {
     "data": {
      "text/plain": [
       "46009"
      ]
     },
     "execution_count": 67,
     "metadata": {},
     "output_type": "execute_result"
    }
   ],
   "source": [
    "spark.sparkContext.textFile(posts_path).count()"
   ]
  },
  {
   "cell_type": "code",
   "execution_count": 68,
   "id": "b60c688f-4b11-4cd1-a6e8-9849beba4acd",
   "metadata": {},
   "outputs": [],
   "source": [
    "# Загрузка RDD для языков программирования\n",
    "programming_languages_raw = spark.sparkContext.textFile(programming_languages_path).zipWithIndex().filter(lambda row: row[1] > 0).map(lambda row: row[0])\n",
    "programming_languages = programming_languages_raw.map(lambda row: row.split(\",\")).filter(lambda row_values: len(row_values) == 2).map(lambda row_values: row_values[0].lower()).collect()"
   ]
  },
  {
   "cell_type": "code",
   "execution_count": 81,
   "id": "b1df2b9e-eccd-4e11-9240-5f070d04ec67",
   "metadata": {},
   "outputs": [],
   "source": [
    "import xml.etree.ElementTree as ET\n",
    "# Парсинг XML данных\n",
    "posts_xml = posts_raw.map(lambda row: ET.fromstring(row))"
   ]
  },
  {
   "cell_type": "code",
   "execution_count": 86,
   "id": "b5f39ff5-d073-4105-9ae7-58bbb9142ae3",
   "metadata": {},
   "outputs": [
    {
     "data": {
      "text/plain": [
       "['c#', '.net', 'datetime']"
      ]
     },
     "execution_count": 86,
     "metadata": {},
     "output_type": "execute_result"
    }
   ],
   "source": [
    "posts_xml.take(3)[2].get(\"Tags\")[1:-1].split(\"><\")"
   ]
  },
  {
   "cell_type": "code",
   "execution_count": 71,
   "id": "cb877e83-87f3-4857-92bb-64b42ae32b0a",
   "metadata": {},
   "outputs": [
    {
     "data": {
      "text/plain": [
       "\u001b[0;31mSignature:\u001b[0m  \u001b[0mET\u001b[0m\u001b[0;34m.\u001b[0m\u001b[0mfromstring\u001b[0m\u001b[0;34m(\u001b[0m\u001b[0mtext\u001b[0m\u001b[0;34m,\u001b[0m \u001b[0mparser\u001b[0m\u001b[0;34m=\u001b[0m\u001b[0;32mNone\u001b[0m\u001b[0;34m)\u001b[0m\u001b[0;34m\u001b[0m\u001b[0;34m\u001b[0m\u001b[0m\n",
       "\u001b[0;31mDocstring:\u001b[0m\n",
       "Parse XML document from string constant.\n",
       "\n",
       "This function can be used to embed \"XML Literals\" in Python code.\n",
       "\n",
       "*text* is a string containing XML data, *parser* is an\n",
       "optional parser instance, defaulting to the standard XMLParser.\n",
       "\n",
       "Returns an Element instance.\n",
       "\u001b[0;31mFile:\u001b[0m      /opt/miniconda3/lib/python3.9/xml/etree/ElementTree.py\n",
       "\u001b[0;31mType:\u001b[0m      function\n"
      ]
     },
     "metadata": {},
     "output_type": "display_data"
    }
   ],
   "source": [
    "? ET.fromstring"
   ]
  },
  {
   "cell_type": "code",
   "execution_count": 87,
   "id": "d6ba2892-aff3-460d-adc6-3433cc56a6c6",
   "metadata": {},
   "outputs": [],
   "source": [
    "# Извлечение даты создания и тегов\n",
    "def extract_creation_date_and_tags(e):\n",
    "    creation_date = e.get(\"CreationDate\")\n",
    "    tags = e.get(\"Tags\")\n",
    "    return (creation_date, tags)\n",
    "\n",
    "post_creation_date_and_tags = posts_xml.map(extract_creation_date_and_tags).filter(lambda x: x[0] is not None and x[1] is not None)"
   ]
  },
  {
   "cell_type": "code",
   "execution_count": 88,
   "id": "abe10db6-bf8c-4b53-849c-de0cad3b54ac",
   "metadata": {},
   "outputs": [],
   "source": [
    "# Парсинг даты создания и тегов\n",
    "def parse_creation_date_and_tags(e):\n",
    "    creation_date, tags = e\n",
    "    year = creation_date[:4]\n",
    "    tags_array = tags[1:-1].split(\"><\")\n",
    "    return year, tags_array\n",
    "\n",
    "post_year_tags = post_creation_date_and_tags.map(parse_creation_date_and_tags)"
   ]
  },
  {
   "cell_type": "code",
   "execution_count": 89,
   "id": "cad22517-2461-4b7d-8cda-ff1a11c3b33a",
   "metadata": {},
   "outputs": [],
   "source": [
    "# Создание DataFrame\n",
    "schema = StructType([\n",
    "    StructField(\"Year\", StringType(), True),\n",
    "    StructField(\"Language\", StringType(), True),\n",
    "    StructField(\"Count\", IntegerType(), True)\n",
    "])"
   ]
  },
  {
   "cell_type": "code",
   "execution_count": 90,
   "id": "dd37356e-0569-467e-910a-94a421860fed",
   "metadata": {},
   "outputs": [],
   "source": [
    "# Обработка данных\n",
    "def process_data(report_year):\n",
    "    # Отфильтровать теги и подсчитать их количество\n",
    "    year_tags_counts = post_year_tags.filter(lambda x: x[0] == report_year).flatMap(lambda x: [(tag, 1) for tag in x[1]])\n",
    "    \n",
    "    # Отфильтровать только языки программирования и кэшировать результат\n",
    "    year_language_tags = year_tags_counts.filter(lambda x: x[0] in programming_languages).cache()\n",
    "\n",
    "    # Подсчитать количество языков программирования и сформировать топ-10\n",
    "    top_tags_counts = year_language_tags.reduceByKey(lambda a, b: a + b).map(lambda x: (report_year, x[0], x[1]))\n",
    "    top_tags_counts = top_tags_counts.sortBy(lambda x: -x[2]).take(top_count)\n",
    "    return top_tags_counts"
   ]
  },
  {
   "cell_type": "code",
   "execution_count": 91,
   "id": "a2762fbd-4641-42ce-b0be-f7cdb0630f81",
   "metadata": {},
   "outputs": [
    {
     "name": "stdout",
     "output_type": "stream",
     "text": [
      "+----+-----------+-----+\n",
      "|Year|Language   |Count|\n",
      "+----+-----------+-----+\n",
      "|2010|java       |52   |\n",
      "|2010|php        |46   |\n",
      "|2010|javascript |44   |\n",
      "|2010|python     |26   |\n",
      "|2010|objective-c|23   |\n",
      "|2010|c          |20   |\n",
      "|2010|ruby       |12   |\n",
      "|2010|delphi     |8    |\n",
      "|2010|applescript|3    |\n",
      "|2010|bash       |3    |\n",
      "|2011|php        |102  |\n",
      "|2011|java       |93   |\n",
      "|2011|javascript |83   |\n",
      "|2011|python     |37   |\n",
      "|2011|objective-c|34   |\n",
      "|2011|c          |24   |\n",
      "|2011|ruby       |20   |\n",
      "|2011|perl       |9    |\n",
      "|2011|delphi     |8    |\n",
      "|2011|bash       |7    |\n",
      "|2012|php        |154  |\n",
      "|2012|javascript |132  |\n",
      "|2012|java       |124  |\n",
      "|2012|python     |69   |\n",
      "|2012|objective-c|45   |\n",
      "|2012|ruby       |27   |\n",
      "|2012|c          |27   |\n",
      "|2012|bash       |10   |\n",
      "|2012|r          |9    |\n",
      "|2012|xpath      |6    |\n",
      "|2013|javascript |198  |\n",
      "|2013|php        |198  |\n",
      "|2013|java       |194  |\n",
      "|2013|python     |90   |\n",
      "|2013|objective-c|40   |\n",
      "|2013|c          |36   |\n",
      "|2013|ruby       |32   |\n",
      "|2013|r          |26   |\n",
      "|2013|bash       |12   |\n",
      "|2013|scala      |11   |\n",
      "|2014|javascript |239  |\n",
      "|2014|java       |228  |\n",
      "|2014|php        |167  |\n",
      "|2014|python     |109  |\n",
      "|2014|c          |52   |\n",
      "|2014|objective-c|52   |\n",
      "|2014|r          |28   |\n",
      "|2014|ruby       |24   |\n",
      "|2014|matlab     |17   |\n",
      "|2014|bash       |17   |\n",
      "|2015|javascript |277  |\n",
      "|2015|java       |209  |\n",
      "|2015|php        |167  |\n",
      "|2015|python     |121  |\n",
      "|2015|r          |43   |\n",
      "|2015|c          |38   |\n",
      "|2015|objective-c|30   |\n",
      "|2015|ruby       |21   |\n",
      "|2015|matlab     |16   |\n",
      "|2015|scala      |15   |\n",
      "|2016|javascript |278  |\n",
      "|2016|java       |184  |\n",
      "|2016|php        |155  |\n",
      "|2016|python     |146  |\n",
      "|2016|r          |52   |\n",
      "|2016|c          |32   |\n",
      "|2016|ruby       |24   |\n",
      "|2016|bash       |18   |\n",
      "|2016|scala      |16   |\n",
      "|2016|matlab     |15   |\n",
      "|2017|javascript |246  |\n",
      "|2017|java       |204  |\n",
      "|2017|python     |193  |\n",
      "|2017|php        |138  |\n",
      "|2017|r          |56   |\n",
      "|2017|c          |25   |\n",
      "|2017|typescript |20   |\n",
      "|2017|objective-c|19   |\n",
      "|2017|ruby       |17   |\n",
      "|2017|bash       |14   |\n",
      "|2018|python     |220  |\n",
      "|2018|javascript |198  |\n",
      "|2018|java       |146  |\n",
      "|2018|php        |111  |\n",
      "|2018|r          |66   |\n",
      "|2018|typescript |27   |\n",
      "|2018|c          |24   |\n",
      "|2018|scala      |23   |\n",
      "|2018|powershell |13   |\n",
      "|2018|bash       |12   |\n",
      "|2019|python     |166  |\n",
      "|2019|javascript |135  |\n",
      "|2019|java       |95   |\n",
      "|2019|php        |65   |\n",
      "|2019|r          |37   |\n",
      "|2019|typescript |17   |\n",
      "|2019|c          |14   |\n",
      "|2019|bash       |11   |\n",
      "|2019|matlab     |9    |\n",
      "|2019|go         |9    |\n",
      "+----+-----------+-----+\n",
      "\n",
      "Duration: 0:00:00.000105\n"
     ]
    }
   ],
   "source": [
    "# Создание отчета для каждого года\n",
    "years_tag_counts = [process_data(year) for year in years]\n",
    "\n",
    "# Создание окончательного отчета\n",
    "final_report = spark.createDataFrame(spark.sparkContext.parallelize([item for sublist in years_tag_counts for item in sublist]), schema=schema)\n",
    "\n",
    "# Сохранение в формате Parquet\n",
    "parquet_output_path = \"programming_language_report.parquet\"\n",
    "final_report.write.mode(\"overwrite\").parquet(parquet_output_path)\n",
    "\n",
    "# Показать результат\n",
    "final_report.show(len(years) * top_count, truncate=False)\n",
    "\n",
    "# Время выполнения\n",
    "start_time = datetime.now()\n",
    "print(f\"Duration: {datetime.now() - start_time}\")\n",
    "\n",
    "\n"
   ]
  },
  {
   "cell_type": "code",
   "execution_count": 95,
   "id": "22e08300-9ecb-4315-ba35-aa418a1be7d6",
   "metadata": {},
   "outputs": [],
   "source": [
    "!hadoop fs -get programming_language_report.parquet ./"
   ]
  },
  {
   "cell_type": "code",
   "execution_count": 96,
   "id": "f470fb96-cee0-4526-b20f-6bf5076b0ed0",
   "metadata": {},
   "outputs": [],
   "source": [
    "# Завершение сессии Spark\n",
    "spark.stop()"
   ]
  },
  {
   "cell_type": "code",
   "execution_count": null,
   "id": "7968a103-db62-4c94-afb3-8cb68aba6e9e",
   "metadata": {},
   "outputs": [],
   "source": []
  }
 ],
 "metadata": {
  "kernelspec": {
   "display_name": "Python 3",
   "language": "python",
   "name": "python3"
  },
  "language_info": {
   "codemirror_mode": {
    "name": "ipython",
    "version": 3
   },
   "file_extension": ".py",
   "mimetype": "text/x-python",
   "name": "python",
   "nbconvert_exporter": "python",
   "pygments_lexer": "ipython3",
   "version": "3.9.5"
  }
 },
 "nbformat": 4,
 "nbformat_minor": 5
}
